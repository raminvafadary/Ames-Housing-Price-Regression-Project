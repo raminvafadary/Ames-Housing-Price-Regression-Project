{
 "cells": [
  {
   "cell_type": "code",
   "execution_count": 1,
   "metadata": {},
   "outputs": [],
   "source": [
    "import pandas as pd\n",
    "from sklearn.preprocessing import StandardScaler\n",
    "from sklearn.linear_model import LinearRegression\n",
    "import pickle\n",
    "import numpy as np\n",
    "from sklearn.preprocessing import PolynomialFeatures, PowerTransformer\n",
    "np.random.seed(42)"
   ]
  },
  {
   "cell_type": "markdown",
   "metadata": {},
   "source": [
    "## Load in trained model and scaler"
   ]
  },
  {
   "cell_type": "code",
   "execution_count": 2,
   "metadata": {},
   "outputs": [],
   "source": [
    "# use pickle.load to load in these assets\n",
    "with open('../assets/lin_reg.pkl', 'rb') as f:\n",
    "    lr = pickle.load(f)\n"
   ]
  },
  {
   "cell_type": "code",
   "execution_count": 3,
   "metadata": {},
   "outputs": [],
   "source": [
    "# use pickle.load to load in these assets\n",
    "with open('../assets/lin_reg_im.pkl', 'rb') as f:\n",
    "    lr_im = pickle.load(f)\n"
   ]
  },
  {
   "cell_type": "code",
   "execution_count": 4,
   "metadata": {},
   "outputs": [],
   "source": [
    "# use pickle.load to load in these assets\n",
    "with open('../assets/lin_reg_im2.pkl', 'rb') as f:\n",
    "    lr_ridge_im = pickle.load(f)"
   ]
  },
  {
   "cell_type": "code",
   "execution_count": 5,
   "metadata": {
    "scrolled": true
   },
   "outputs": [],
   "source": [
    "with open ('../assets/scaler.pkl', 'rb') as f:\n",
    "      ss = pickle.load(f)"
   ]
  },
  {
   "cell_type": "code",
   "execution_count": 6,
   "metadata": {},
   "outputs": [],
   "source": [
    "with open ('../assets/transformer_y.pkl', 'rb') as f:\n",
    "      pt_y = pickle.load(f)"
   ]
  },
  {
   "cell_type": "markdown",
   "metadata": {},
   "source": [
    "# Load train data "
   ]
  },
  {
   "cell_type": "code",
   "execution_count": 7,
   "metadata": {},
   "outputs": [],
   "source": [
    "#importing data\n",
    "X=pd.read_csv('../datasets/X_train.csv',index_col=\"Id\")"
   ]
  },
  {
   "cell_type": "markdown",
   "metadata": {},
   "source": [
    "## Load kaggle data"
   ]
  },
  {
   "cell_type": "code",
   "execution_count": 8,
   "metadata": {},
   "outputs": [
    {
     "data": {
      "text/html": [
       "<div>\n",
       "<style scoped>\n",
       "    .dataframe tbody tr th:only-of-type {\n",
       "        vertical-align: middle;\n",
       "    }\n",
       "\n",
       "    .dataframe tbody tr th {\n",
       "        vertical-align: top;\n",
       "    }\n",
       "\n",
       "    .dataframe thead th {\n",
       "        text-align: right;\n",
       "    }\n",
       "</style>\n",
       "<table border=\"1\" class=\"dataframe\">\n",
       "  <thead>\n",
       "    <tr style=\"text-align: right;\">\n",
       "      <th></th>\n",
       "      <th>PID</th>\n",
       "      <th>MS SubClass</th>\n",
       "      <th>MS Zoning</th>\n",
       "      <th>Lot Frontage</th>\n",
       "      <th>Lot Area</th>\n",
       "      <th>Street</th>\n",
       "      <th>Alley</th>\n",
       "      <th>Lot Shape</th>\n",
       "      <th>Land Contour</th>\n",
       "      <th>Utilities</th>\n",
       "      <th>...</th>\n",
       "      <th>3Ssn Porch</th>\n",
       "      <th>Screen Porch</th>\n",
       "      <th>Pool Area</th>\n",
       "      <th>Pool QC</th>\n",
       "      <th>Fence</th>\n",
       "      <th>Misc Feature</th>\n",
       "      <th>Misc Val</th>\n",
       "      <th>Mo Sold</th>\n",
       "      <th>Yr Sold</th>\n",
       "      <th>Sale Type</th>\n",
       "    </tr>\n",
       "    <tr>\n",
       "      <th>Id</th>\n",
       "      <th></th>\n",
       "      <th></th>\n",
       "      <th></th>\n",
       "      <th></th>\n",
       "      <th></th>\n",
       "      <th></th>\n",
       "      <th></th>\n",
       "      <th></th>\n",
       "      <th></th>\n",
       "      <th></th>\n",
       "      <th></th>\n",
       "      <th></th>\n",
       "      <th></th>\n",
       "      <th></th>\n",
       "      <th></th>\n",
       "      <th></th>\n",
       "      <th></th>\n",
       "      <th></th>\n",
       "      <th></th>\n",
       "      <th></th>\n",
       "      <th></th>\n",
       "    </tr>\n",
       "  </thead>\n",
       "  <tbody>\n",
       "    <tr>\n",
       "      <th>2658</th>\n",
       "      <td>902301120</td>\n",
       "      <td>190</td>\n",
       "      <td>RM</td>\n",
       "      <td>69.0</td>\n",
       "      <td>9142</td>\n",
       "      <td>Pave</td>\n",
       "      <td>Grvl</td>\n",
       "      <td>Reg</td>\n",
       "      <td>Lvl</td>\n",
       "      <td>AllPub</td>\n",
       "      <td>...</td>\n",
       "      <td>0</td>\n",
       "      <td>0</td>\n",
       "      <td>0</td>\n",
       "      <td>NaN</td>\n",
       "      <td>NaN</td>\n",
       "      <td>NaN</td>\n",
       "      <td>0</td>\n",
       "      <td>4</td>\n",
       "      <td>2006</td>\n",
       "      <td>WD</td>\n",
       "    </tr>\n",
       "    <tr>\n",
       "      <th>2718</th>\n",
       "      <td>905108090</td>\n",
       "      <td>90</td>\n",
       "      <td>RL</td>\n",
       "      <td>NaN</td>\n",
       "      <td>9662</td>\n",
       "      <td>Pave</td>\n",
       "      <td>NaN</td>\n",
       "      <td>IR1</td>\n",
       "      <td>Lvl</td>\n",
       "      <td>AllPub</td>\n",
       "      <td>...</td>\n",
       "      <td>0</td>\n",
       "      <td>0</td>\n",
       "      <td>0</td>\n",
       "      <td>NaN</td>\n",
       "      <td>NaN</td>\n",
       "      <td>NaN</td>\n",
       "      <td>0</td>\n",
       "      <td>8</td>\n",
       "      <td>2006</td>\n",
       "      <td>WD</td>\n",
       "    </tr>\n",
       "    <tr>\n",
       "      <th>2414</th>\n",
       "      <td>528218130</td>\n",
       "      <td>60</td>\n",
       "      <td>RL</td>\n",
       "      <td>58.0</td>\n",
       "      <td>17104</td>\n",
       "      <td>Pave</td>\n",
       "      <td>NaN</td>\n",
       "      <td>IR1</td>\n",
       "      <td>Lvl</td>\n",
       "      <td>AllPub</td>\n",
       "      <td>...</td>\n",
       "      <td>0</td>\n",
       "      <td>0</td>\n",
       "      <td>0</td>\n",
       "      <td>NaN</td>\n",
       "      <td>NaN</td>\n",
       "      <td>NaN</td>\n",
       "      <td>0</td>\n",
       "      <td>9</td>\n",
       "      <td>2006</td>\n",
       "      <td>New</td>\n",
       "    </tr>\n",
       "    <tr>\n",
       "      <th>1989</th>\n",
       "      <td>902207150</td>\n",
       "      <td>30</td>\n",
       "      <td>RM</td>\n",
       "      <td>60.0</td>\n",
       "      <td>8520</td>\n",
       "      <td>Pave</td>\n",
       "      <td>NaN</td>\n",
       "      <td>Reg</td>\n",
       "      <td>Lvl</td>\n",
       "      <td>AllPub</td>\n",
       "      <td>...</td>\n",
       "      <td>0</td>\n",
       "      <td>0</td>\n",
       "      <td>0</td>\n",
       "      <td>NaN</td>\n",
       "      <td>NaN</td>\n",
       "      <td>NaN</td>\n",
       "      <td>0</td>\n",
       "      <td>7</td>\n",
       "      <td>2007</td>\n",
       "      <td>WD</td>\n",
       "    </tr>\n",
       "    <tr>\n",
       "      <th>625</th>\n",
       "      <td>535105100</td>\n",
       "      <td>20</td>\n",
       "      <td>RL</td>\n",
       "      <td>NaN</td>\n",
       "      <td>9500</td>\n",
       "      <td>Pave</td>\n",
       "      <td>NaN</td>\n",
       "      <td>IR1</td>\n",
       "      <td>Lvl</td>\n",
       "      <td>AllPub</td>\n",
       "      <td>...</td>\n",
       "      <td>0</td>\n",
       "      <td>185</td>\n",
       "      <td>0</td>\n",
       "      <td>NaN</td>\n",
       "      <td>NaN</td>\n",
       "      <td>NaN</td>\n",
       "      <td>0</td>\n",
       "      <td>7</td>\n",
       "      <td>2009</td>\n",
       "      <td>WD</td>\n",
       "    </tr>\n",
       "  </tbody>\n",
       "</table>\n",
       "<p>5 rows × 79 columns</p>\n",
       "</div>"
      ],
      "text/plain": [
       "            PID  MS SubClass MS Zoning  Lot Frontage  Lot Area Street Alley  \\\n",
       "Id                                                                            \n",
       "2658  902301120          190        RM          69.0      9142   Pave  Grvl   \n",
       "2718  905108090           90        RL           NaN      9662   Pave   NaN   \n",
       "2414  528218130           60        RL          58.0     17104   Pave   NaN   \n",
       "1989  902207150           30        RM          60.0      8520   Pave   NaN   \n",
       "625   535105100           20        RL           NaN      9500   Pave   NaN   \n",
       "\n",
       "     Lot Shape Land Contour Utilities  ... 3Ssn Porch Screen Porch Pool Area  \\\n",
       "Id                                     ...                                     \n",
       "2658       Reg          Lvl    AllPub  ...          0            0         0   \n",
       "2718       IR1          Lvl    AllPub  ...          0            0         0   \n",
       "2414       IR1          Lvl    AllPub  ...          0            0         0   \n",
       "1989       Reg          Lvl    AllPub  ...          0            0         0   \n",
       "625        IR1          Lvl    AllPub  ...          0          185         0   \n",
       "\n",
       "     Pool QC Fence Misc Feature Misc Val  Mo Sold  Yr Sold  Sale Type  \n",
       "Id                                                                     \n",
       "2658     NaN   NaN          NaN        0        4     2006        WD   \n",
       "2718     NaN   NaN          NaN        0        8     2006        WD   \n",
       "2414     NaN   NaN          NaN        0        9     2006        New  \n",
       "1989     NaN   NaN          NaN        0        7     2007        WD   \n",
       "625      NaN   NaN          NaN        0        7     2009        WD   \n",
       "\n",
       "[5 rows x 79 columns]"
      ]
     },
     "execution_count": 8,
     "metadata": {},
     "output_type": "execute_result"
    }
   ],
   "source": [
    "kaggle_df = pd.read_csv('../datasets/test.csv', index_col='Id')\n",
    "kaggle_df.head()"
   ]
  },
  {
   "cell_type": "markdown",
   "metadata": {},
   "source": [
    "## Replace with numpy nan values"
   ]
  },
  {
   "cell_type": "code",
   "execution_count": 9,
   "metadata": {},
   "outputs": [],
   "source": [
    "# replacing \"nan\" with np.nan\n",
    "kaggle_df=kaggle_df.replace(\"nan\", np.nan)"
   ]
  },
  {
   "cell_type": "markdown",
   "metadata": {},
   "source": [
    "## Dropping duplicate rows"
   ]
  },
  {
   "cell_type": "code",
   "execution_count": 10,
   "metadata": {},
   "outputs": [],
   "source": [
    "#kaggle_df.drop_duplicates(keep=\"first\", inplace=True)"
   ]
  },
  {
   "cell_type": "markdown",
   "metadata": {},
   "source": [
    "## Dropping unwanted columns"
   ]
  },
  {
   "cell_type": "code",
   "execution_count": 11,
   "metadata": {},
   "outputs": [],
   "source": [
    "kaggle_df.drop(columns=[\"PID\"],inplace=True)"
   ]
  },
  {
   "cell_type": "code",
   "execution_count": 12,
   "metadata": {},
   "outputs": [],
   "source": [
    "#drop unwanted columns\n",
    "kaggle_df.drop(columns=[\"Street\",\"Alley\",\"Fireplace Qu\",\"Misc Feature\",\"Fence\",\"Pool QC\",\"Lot Frontage\"],inplace=True)"
   ]
  },
  {
   "cell_type": "markdown",
   "metadata": {},
   "source": [
    "## Filling missing values for columns with large number of missing values for numerical data"
   ]
  },
  {
   "cell_type": "code",
   "execution_count": 13,
   "metadata": {},
   "outputs": [],
   "source": [
    "#imputing with mean\n",
    "kaggle_df= kaggle_df.fillna(kaggle_df.median().iloc[0])"
   ]
  },
  {
   "cell_type": "markdown",
   "metadata": {},
   "source": [
    "## Filling missing values for columns with large number of missing values for categorical data"
   ]
  },
  {
   "cell_type": "code",
   "execution_count": 14,
   "metadata": {},
   "outputs": [],
   "source": [
    "kaggle_df= kaggle_df.fillna(kaggle_df.mode().iloc[0])"
   ]
  },
  {
   "cell_type": "code",
   "execution_count": 15,
   "metadata": {},
   "outputs": [
    {
     "data": {
      "text/plain": [
       "0"
      ]
     },
     "execution_count": 15,
     "metadata": {},
     "output_type": "execute_result"
    }
   ],
   "source": [
    "kaggle_df.isnull().sum().sum()"
   ]
  },
  {
   "cell_type": "markdown",
   "metadata": {},
   "source": [
    "## Encode a couple of discrete numeric columns as object before dummying"
   ]
  },
  {
   "cell_type": "code",
   "execution_count": 16,
   "metadata": {},
   "outputs": [],
   "source": [
    "kaggle_df[['Overall Cond', 'Overall Qual']] =kaggle_df[['Overall Cond', 'Overall Qual']].astype('object')"
   ]
  },
  {
   "cell_type": "code",
   "execution_count": 17,
   "metadata": {},
   "outputs": [],
   "source": [
    "kaggle_df.drop(columns=[\"Misc Val\",\"Bsmt Half Bath\",\"Yr Sold\"],inplace=True)"
   ]
  },
  {
   "cell_type": "code",
   "execution_count": 18,
   "metadata": {},
   "outputs": [],
   "source": [
    "X1=kaggle_df\n",
    "X1=X1.select_dtypes(exclude=[\"object\"])"
   ]
  },
  {
   "cell_type": "code",
   "execution_count": 19,
   "metadata": {},
   "outputs": [],
   "source": [
    "# use pickle.load to load in these assets\n",
    "with open('../assets/thresh.pkl', 'rb') as f:\n",
    "    threshold = pickle.load(f)"
   ]
  },
  {
   "cell_type": "code",
   "execution_count": 20,
   "metadata": {},
   "outputs": [],
   "source": [
    "X_t= threshold.fit_transform(X1)"
   ]
  },
  {
   "cell_type": "code",
   "execution_count": 21,
   "metadata": {},
   "outputs": [],
   "source": [
    "columns = X1.columns[threshold.get_support()]"
   ]
  },
  {
   "cell_type": "code",
   "execution_count": 22,
   "metadata": {},
   "outputs": [],
   "source": [
    "X1=pd.DataFrame(X_t, columns=columns)"
   ]
  },
  {
   "cell_type": "code",
   "execution_count": 23,
   "metadata": {},
   "outputs": [],
   "source": [
    "features=X1.columns.tolist()"
   ]
  },
  {
   "cell_type": "code",
   "execution_count": 24,
   "metadata": {},
   "outputs": [],
   "source": [
    "# use pickle.load to load in these assets\n",
    "with open('../assets/poly.pkl', 'rb') as f:\n",
    "    poly = pickle.load(f)"
   ]
  },
  {
   "cell_type": "code",
   "execution_count": 25,
   "metadata": {},
   "outputs": [],
   "source": [
    "X_poly = poly.fit_transform(X1)"
   ]
  },
  {
   "cell_type": "code",
   "execution_count": 26,
   "metadata": {},
   "outputs": [],
   "source": [
    "df1=pd.DataFrame(X_poly, columns=poly.get_feature_names(features))"
   ]
  },
  {
   "cell_type": "code",
   "execution_count": 27,
   "metadata": {},
   "outputs": [],
   "source": [
    "df2=kaggle_df.select_dtypes(include=[\"object\"])\n",
    "df2 = df2.reset_index(drop = True)"
   ]
  },
  {
   "cell_type": "code",
   "execution_count": 28,
   "metadata": {},
   "outputs": [],
   "source": [
    "df3=pd.concat([df2,df1],axis=1)"
   ]
  },
  {
   "cell_type": "code",
   "execution_count": 29,
   "metadata": {},
   "outputs": [],
   "source": [
    "kaggle_df=kaggle_df.reset_index(drop=False)"
   ]
  },
  {
   "cell_type": "code",
   "execution_count": 30,
   "metadata": {},
   "outputs": [],
   "source": [
    "df3[\"Id\"] = kaggle_df[\"Id\"] "
   ]
  },
  {
   "cell_type": "code",
   "execution_count": 31,
   "metadata": {},
   "outputs": [],
   "source": [
    "df3=df3.set_index(\"Id\")"
   ]
  },
  {
   "cell_type": "code",
   "execution_count": 32,
   "metadata": {},
   "outputs": [],
   "source": [
    "kaggle_df=df3"
   ]
  },
  {
   "cell_type": "code",
   "execution_count": null,
   "metadata": {},
   "outputs": [],
   "source": []
  },
  {
   "cell_type": "code",
   "execution_count": 33,
   "metadata": {},
   "outputs": [],
   "source": [
    "kaggle_df = pd.get_dummies(kaggle_df, drop_first = True)"
   ]
  },
  {
   "cell_type": "code",
   "execution_count": 34,
   "metadata": {},
   "outputs": [
    {
     "data": {
      "text/plain": [
       "(878, 483)"
      ]
     },
     "execution_count": 34,
     "metadata": {},
     "output_type": "execute_result"
    }
   ],
   "source": [
    "kaggle_df.shape"
   ]
  },
  {
   "cell_type": "markdown",
   "metadata": {},
   "source": [
    "# Compare kaggle and train"
   ]
  },
  {
   "cell_type": "code",
   "execution_count": 35,
   "metadata": {},
   "outputs": [
    {
     "name": "stdout",
     "output_type": "stream",
     "text": [
      "We have 547 features in our training dataset\n",
      "We have 483 features in our kaggle dataset\n"
     ]
    }
   ],
   "source": [
    "# Let's compare the number of features in our kaggle dataset vs. our training dataset\n",
    "\n",
    "print(f'We have {len(X.columns)} features in our training dataset')\n",
    "\n",
    "print(f'We have {len(kaggle_df.columns)} features in our kaggle dataset')"
   ]
  },
  {
   "cell_type": "code",
   "execution_count": 36,
   "metadata": {},
   "outputs": [
    {
     "name": "stdout",
     "output_type": "stream",
     "text": [
      "{'Gr Liv Area Garage Cars', 'Bsmt Full Bath TotRms AbvGrd', 'Garage Cars 3Ssn Porch', 'Condition 2_RRNn', 'Year Remod/Add Garage Cars', '2nd Flr SF Garage Cars', 'Roof Matl_CompShg', 'Functional_Sal', 'BsmtFin SF 1 Garage Cars', 'Bsmt Full Bath Enclosed Porch', 'Bsmt Unf SF Garage Cars', 'Mas Vnr Area Bsmt Full Bath', 'Electrical_Mix', 'Bsmt Full Bath Mo Sold', 'MS Zoning_C (all)', 'MS SubClass Bsmt Full Bath', 'Garage Cars Open Porch SF', 'Year Remod/Add Bsmt Full Bath', 'Lot Area Garage Cars', '1st Flr SF Garage Cars', 'Gr Liv Area Bsmt Full Bath', 'Garage Qual_Ex', 'Condition 2_RRAn', 'Garage Cars Wood Deck SF', 'Garage Cars', 'Bsmt Unf SF Bsmt Full Bath', 'Exterior 1st_Stone', 'Bsmt Full Bath Wood Deck SF', 'Garage Yr Blt Garage Cars', 'Bsmt Cond_Po', 'Lot Area Bsmt Full Bath', 'Bsmt Full Bath 3Ssn Porch', 'Roof Matl_Membran', '1st Flr SF Bsmt Full Bath', 'MS SubClass Garage Cars', 'Heating_Wall', 'Condition 2_PosN', 'Garage Cars Garage Area', 'Heating QC_Po', 'Garage Cars Enclosed Porch', 'Bsmt Full Bath Garage Cars', 'Exterior 1st_CBlock', 'Neighborhood_Landmrk', '2nd Flr SF Bsmt Full Bath', 'Garage Cars Pool Area', 'Bsmt Cond_Ex', 'Total Bsmt SF Garage Cars', 'Bsmt Full Bath Garage Area', 'Bsmt Full Bath Screen Porch', 'Low Qual Fin SF Garage Cars', 'TotRms AbvGrd Garage Cars', 'Bsmt Full Bath Open Porch SF', 'Bsmt Full Bath Garage Yr Blt', 'Condition 2_Feedr', 'BsmtFin SF 2 Bsmt Full Bath', 'BsmtFin SF 2 Garage Cars', 'Exterior 1st_ImStucc', 'Overall Qual_2', 'Garage Cars Mo Sold', 'Low Qual Fin SF Bsmt Full Bath', 'Heating_OthW', 'Neighborhood_GrnHill', 'Bsmt Full Bath Pool Area', 'Functional_Sev', 'Year Built Garage Cars', 'Utilities_NoSeWa', 'Garage Cars Screen Porch', 'BsmtFin SF 1 Bsmt Full Bath', 'Year Built Bsmt Full Bath', 'Bsmt Full Bath', 'Total Bsmt SF Bsmt Full Bath', 'Exterior 2nd_Stone', 'Condition 2_RRAe', 'Mas Vnr Area Garage Cars'}\n"
     ]
    }
   ],
   "source": [
    "## STEP 1: If there are features in our training dataset that are NOT in the kaggle dataset, we will have to ADD those features to our kaggle dataset and set them equal to 0\n",
    "\n",
    "# I am grabbing the set of our train features\n",
    "# I am grabbing the set of our kaggle features\n",
    "# I am differencing the sets, and seeing what's leftover from my training features\n",
    "\n",
    "features_to_add = set(X.columns).difference(set(kaggle_df.columns))\n",
    "print(features_to_add)\n"
   ]
  },
  {
   "cell_type": "code",
   "execution_count": 37,
   "metadata": {},
   "outputs": [],
   "source": [
    "\n",
    "# let's add these features to our kaggle dataframe and set them all equal to 0!\n",
    "\n",
    "for feature in features_to_add:\n",
    "    kaggle_df[feature] = 0\n"
   ]
  },
  {
   "cell_type": "code",
   "execution_count": 38,
   "metadata": {},
   "outputs": [
    {
     "name": "stdout",
     "output_type": "stream",
     "text": [
      "We have 547 features in our training dataset\n",
      "We have 557 features in our kaggle dataset\n"
     ]
    }
   ],
   "source": [
    "# We should now have an empty set\n",
    "set(X.columns).difference(set(kaggle_df.columns))\n",
    "\n",
    "print(f'We have {len(X.columns)} features in our training dataset')\n",
    "\n",
    "print(f'We have {len(kaggle_df.columns)} features in our kaggle dataset')"
   ]
  },
  {
   "cell_type": "code",
   "execution_count": 39,
   "metadata": {},
   "outputs": [
    {
     "name": "stdout",
     "output_type": "stream",
     "text": [
      "['Sale Type_VWD', 'Electrical_FuseA', 'Exterior 1st_PreCast', 'Kitchen Qual_Po', 'Roof Matl_Metal', 'Roof Matl_Roll', 'Exterior 2nd_Other', 'Exterior 2nd_PreCast', 'Mas Vnr Type_CBlock', 'Heating_GasA']\n"
     ]
    }
   ],
   "source": [
    "## STEP 2: If there are features in our kaggle dataset that are NOT in the training dataset, we will have to DROP those features in our kaggle dataset.\n",
    "\n",
    "# We are doing the same thing above, but switching it up!\n",
    "\n",
    "features_to_delete = list(set(kaggle_df.columns).difference(set(X.columns)))\n",
    "print(features_to_delete)"
   ]
  },
  {
   "cell_type": "code",
   "execution_count": 40,
   "metadata": {},
   "outputs": [
    {
     "name": "stdout",
     "output_type": "stream",
     "text": [
      "We have 547 features in our training dataset\n",
      "We have 547 features in our kaggle dataset\n",
      "yay\n"
     ]
    }
   ],
   "source": [
    "# We are going to drop these columns!\n",
    "\n",
    "kaggle_df.drop(columns = features_to_delete, inplace=True)\n",
    "\n",
    "print(f'We have {len(X.columns)} features in our training dataset')\n",
    "print(f'We have {len(kaggle_df.columns)} features in our kaggle dataset')\n",
    "print('yay')\n"
   ]
  },
  {
   "cell_type": "code",
   "execution_count": 41,
   "metadata": {},
   "outputs": [
    {
     "data": {
      "text/plain": [
       "True"
      ]
     },
     "execution_count": 41,
     "metadata": {},
     "output_type": "execute_result"
    }
   ],
   "source": [
    "## STEP 3: Re-order your kaggle dataset features!\n",
    "\n",
    "# sanity check:\n",
    "all(X.columns) == all(kaggle_df.columns)"
   ]
  },
  {
   "cell_type": "code",
   "execution_count": 42,
   "metadata": {},
   "outputs": [],
   "source": [
    "# making sure the columns are in order!\n",
    "kaggle_df = kaggle_df.loc[:, X.columns]"
   ]
  },
  {
   "cell_type": "markdown",
   "metadata": {},
   "source": [
    "## Scale the kaggle data"
   ]
  },
  {
   "cell_type": "code",
   "execution_count": 43,
   "metadata": {},
   "outputs": [],
   "source": [
    "kaggle_sc = ss.transform(kaggle_df)"
   ]
  },
  {
   "cell_type": "code",
   "execution_count": 44,
   "metadata": {
    "scrolled": true
   },
   "outputs": [
    {
     "data": {
      "text/plain": [
       "(878, 547)"
      ]
     },
     "execution_count": 44,
     "metadata": {},
     "output_type": "execute_result"
    }
   ],
   "source": [
    "kaggle_sc.shape"
   ]
  },
  {
   "cell_type": "markdown",
   "metadata": {},
   "source": [
    "## Model Prep: `logTransformer`"
   ]
  },
  {
   "cell_type": "code",
   "execution_count": 45,
   "metadata": {
    "scrolled": true
   },
   "outputs": [],
   "source": [
    "# kaggle_tr=pt.transform(kaggle_sc)"
   ]
  },
  {
   "cell_type": "code",
   "execution_count": 46,
   "metadata": {},
   "outputs": [],
   "source": [
    "#kaggle_tr=kaggle_sc"
   ]
  },
  {
   "cell_type": "markdown",
   "metadata": {},
   "source": [
    "# Make prediction"
   ]
  },
  {
   "cell_type": "code",
   "execution_count": 47,
   "metadata": {},
   "outputs": [],
   "source": [
    "\n",
    "# Get sales predictions!\n",
    "kaggle_preds = lr.predict(kaggle_sc)\n"
   ]
  },
  {
   "cell_type": "code",
   "execution_count": 48,
   "metadata": {},
   "outputs": [],
   "source": [
    "#transform the prediction\n",
    "# The .reshape(-1,1) method changes a numpy array into a numpy matrix with 1 column\n",
    "\n",
    "kaggle_preds= pt_y.inverse_transform(kaggle_preds.reshape(-1,1))"
   ]
  },
  {
   "cell_type": "code",
   "execution_count": 49,
   "metadata": {},
   "outputs": [
    {
     "data": {
      "text/html": [
       "<div>\n",
       "<style scoped>\n",
       "    .dataframe tbody tr th:only-of-type {\n",
       "        vertical-align: middle;\n",
       "    }\n",
       "\n",
       "    .dataframe tbody tr th {\n",
       "        vertical-align: top;\n",
       "    }\n",
       "\n",
       "    .dataframe thead th {\n",
       "        text-align: right;\n",
       "    }\n",
       "</style>\n",
       "<table border=\"1\" class=\"dataframe\">\n",
       "  <thead>\n",
       "    <tr style=\"text-align: right;\">\n",
       "      <th></th>\n",
       "      <th>SalePrice</th>\n",
       "    </tr>\n",
       "    <tr>\n",
       "      <th>Id</th>\n",
       "      <th></th>\n",
       "    </tr>\n",
       "  </thead>\n",
       "  <tbody>\n",
       "    <tr>\n",
       "      <th>2</th>\n",
       "      <td>113048.444712</td>\n",
       "    </tr>\n",
       "    <tr>\n",
       "      <th>4</th>\n",
       "      <td>226232.093308</td>\n",
       "    </tr>\n",
       "    <tr>\n",
       "      <th>6</th>\n",
       "      <td>186540.402784</td>\n",
       "    </tr>\n",
       "    <tr>\n",
       "      <th>7</th>\n",
       "      <td>204590.133736</td>\n",
       "    </tr>\n",
       "    <tr>\n",
       "      <th>17</th>\n",
       "      <td>218331.750651</td>\n",
       "    </tr>\n",
       "    <tr>\n",
       "      <th>...</th>\n",
       "      <td>...</td>\n",
       "    </tr>\n",
       "    <tr>\n",
       "      <th>2919</th>\n",
       "      <td>84890.303974</td>\n",
       "    </tr>\n",
       "    <tr>\n",
       "      <th>2921</th>\n",
       "      <td>88902.318526</td>\n",
       "    </tr>\n",
       "    <tr>\n",
       "      <th>2922</th>\n",
       "      <td>160890.873560</td>\n",
       "    </tr>\n",
       "    <tr>\n",
       "      <th>2925</th>\n",
       "      <td>152243.548339</td>\n",
       "    </tr>\n",
       "    <tr>\n",
       "      <th>2928</th>\n",
       "      <td>138252.253797</td>\n",
       "    </tr>\n",
       "  </tbody>\n",
       "</table>\n",
       "<p>878 rows × 1 columns</p>\n",
       "</div>"
      ],
      "text/plain": [
       "          SalePrice\n",
       "Id                 \n",
       "2     113048.444712\n",
       "4     226232.093308\n",
       "6     186540.402784\n",
       "7     204590.133736\n",
       "17    218331.750651\n",
       "...             ...\n",
       "2919   84890.303974\n",
       "2921   88902.318526\n",
       "2922  160890.873560\n",
       "2925  152243.548339\n",
       "2928  138252.253797\n",
       "\n",
       "[878 rows x 1 columns]"
      ]
     },
     "execution_count": 49,
     "metadata": {},
     "output_type": "execute_result"
    }
   ],
   "source": [
    "# create a submission dataframe:\n",
    "kaggle_df['SalePrice'] = kaggle_preds\n",
    "\n",
    "submission = pd.DataFrame(kaggle_df['SalePrice'], index = kaggle_df.index)\n",
    "submission.sort_index(inplace=True)\n",
    "submission"
   ]
  },
  {
   "cell_type": "code",
   "execution_count": 50,
   "metadata": {},
   "outputs": [],
   "source": [
    "# Save your csv!\n",
    "submission.to_csv('../datasets/submission.csv')"
   ]
  },
  {
   "cell_type": "markdown",
   "metadata": {},
   "source": [
    "Then click this link to submit:¶\n",
    "https://www.kaggle.com/c/dsi-us-11-project-2-regression-challenge/submit"
   ]
  },
  {
   "cell_type": "code",
   "execution_count": null,
   "metadata": {},
   "outputs": [],
   "source": []
  },
  {
   "cell_type": "code",
   "execution_count": null,
   "metadata": {},
   "outputs": [],
   "source": []
  },
  {
   "cell_type": "code",
   "execution_count": null,
   "metadata": {},
   "outputs": [],
   "source": []
  }
 ],
 "metadata": {
  "kernelspec": {
   "display_name": "Python 3",
   "language": "python",
   "name": "python3"
  },
  "language_info": {
   "codemirror_mode": {
    "name": "ipython",
    "version": 3
   },
   "file_extension": ".py",
   "mimetype": "text/x-python",
   "name": "python",
   "nbconvert_exporter": "python",
   "pygments_lexer": "ipython3",
   "version": "3.7.6"
  }
 },
 "nbformat": 4,
 "nbformat_minor": 4
}
